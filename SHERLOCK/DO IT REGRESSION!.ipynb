{
 "cells": [
  {
   "cell_type": "code",
   "execution_count": 1,
   "metadata": {},
   "outputs": [],
   "source": [
    "import sys\n",
    "import numpy as np\n",
    "import pandas as pd\n",
    "import matplotlib.pyplot as plt\n",
    "import seaborn as sns\n",
    "%matplotlib inline"
   ]
  },
  {
   "cell_type": "code",
   "execution_count": 2,
   "metadata": {},
   "outputs": [],
   "source": [
    "cluster_0 = pd.read_csv('cluster_0.csv',encoding='utf-8')\n",
    "cluster_3 = pd.read_csv('cluster_3.csv',encoding='utf-8')"
   ]
  },
  {
   "cell_type": "code",
   "execution_count": 3,
   "metadata": {
    "scrolled": false
   },
   "outputs": [
    {
     "data": {
      "text/html": [
       "<div>\n",
       "<style scoped>\n",
       "    .dataframe tbody tr th:only-of-type {\n",
       "        vertical-align: middle;\n",
       "    }\n",
       "\n",
       "    .dataframe tbody tr th {\n",
       "        vertical-align: top;\n",
       "    }\n",
       "\n",
       "    .dataframe thead th {\n",
       "        text-align: right;\n",
       "    }\n",
       "</style>\n",
       "<table border=\"1\" class=\"dataframe\">\n",
       "  <thead>\n",
       "    <tr style=\"text-align: right;\">\n",
       "      <th></th>\n",
       "      <th>Unnamed: 0</th>\n",
       "      <th>CORP_ID</th>\n",
       "      <th>BKG_TYP</th>\n",
       "      <th>BKG_DATE</th>\n",
       "      <th>BKG_TIME</th>\n",
       "      <th>INV_AMT</th>\n",
       "      <th>ITEM_CD</th>\n",
       "      <th>ITEM_QTY</th>\n",
       "      <th>ITEM_AMT</th>\n",
       "      <th>DLV_DV</th>\n",
       "      <th>DLVPREARRBRANCD</th>\n",
       "      <th>DLVCLSFCD</th>\n",
       "      <th>DLVSUBCLSFCD</th>\n",
       "      <th>POST_ZONE</th>\n",
       "      <th>SPLIT_EXEC_YN</th>\n",
       "      <th>SHPR_ADDR_1</th>\n",
       "      <th>SHPR_ADDR_2</th>\n",
       "      <th>CNEE_ADDR_1</th>\n",
       "      <th>CNEE_ADDR_2</th>\n",
       "      <th>cluster_id</th>\n",
       "    </tr>\n",
       "  </thead>\n",
       "  <tbody>\n",
       "    <tr>\n",
       "      <th>0</th>\n",
       "      <td>0</td>\n",
       "      <td>0</td>\n",
       "      <td>7</td>\n",
       "      <td>20210303</td>\n",
       "      <td>35510</td>\n",
       "      <td>22400.0</td>\n",
       "      <td>134265392</td>\n",
       "      <td>1</td>\n",
       "      <td>14900.0</td>\n",
       "      <td>1.0</td>\n",
       "      <td>7484</td>\n",
       "      <td>5Z73</td>\n",
       "      <td>1</td>\n",
       "      <td>3.0</td>\n",
       "      <td>N</td>\n",
       "      <td>세종특별자치시</td>\n",
       "      <td>S</td>\n",
       "      <td>서울특별시</td>\n",
       "      <td>서대문구</td>\n",
       "      <td>0</td>\n",
       "    </tr>\n",
       "    <tr>\n",
       "      <th>1</th>\n",
       "      <td>1</td>\n",
       "      <td>0</td>\n",
       "      <td>7</td>\n",
       "      <td>20210301</td>\n",
       "      <td>111910</td>\n",
       "      <td>119900.0</td>\n",
       "      <td>134265392</td>\n",
       "      <td>4</td>\n",
       "      <td>59600.0</td>\n",
       "      <td>1.0</td>\n",
       "      <td>7368</td>\n",
       "      <td>5E04</td>\n",
       "      <td>0</td>\n",
       "      <td>14.0</td>\n",
       "      <td>N</td>\n",
       "      <td>세종특별자치시</td>\n",
       "      <td>S</td>\n",
       "      <td>경기도</td>\n",
       "      <td>광명시</td>\n",
       "      <td>0</td>\n",
       "    </tr>\n",
       "    <tr>\n",
       "      <th>2</th>\n",
       "      <td>2</td>\n",
       "      <td>0</td>\n",
       "      <td>7</td>\n",
       "      <td>20210301</td>\n",
       "      <td>115608</td>\n",
       "      <td>14900.0</td>\n",
       "      <td>134265392</td>\n",
       "      <td>1</td>\n",
       "      <td>14900.0</td>\n",
       "      <td>1.0</td>\n",
       "      <td>722</td>\n",
       "      <td>5F40</td>\n",
       "      <td>2t</td>\n",
       "      <td>42.0</td>\n",
       "      <td>N</td>\n",
       "      <td>세종특별자치시</td>\n",
       "      <td>S</td>\n",
       "      <td>대구광역시</td>\n",
       "      <td>달서구</td>\n",
       "      <td>0</td>\n",
       "    </tr>\n",
       "    <tr>\n",
       "      <th>3</th>\n",
       "      <td>3</td>\n",
       "      <td>0</td>\n",
       "      <td>7</td>\n",
       "      <td>20210303</td>\n",
       "      <td>33257</td>\n",
       "      <td>29800.0</td>\n",
       "      <td>134265392</td>\n",
       "      <td>2</td>\n",
       "      <td>29800.0</td>\n",
       "      <td>1.0</td>\n",
       "      <td>L20L</td>\n",
       "      <td>6P95</td>\n",
       "      <td>7</td>\n",
       "      <td>37.0</td>\n",
       "      <td>N</td>\n",
       "      <td>세종특별자치시</td>\n",
       "      <td>S</td>\n",
       "      <td>경상북도</td>\n",
       "      <td>포항시</td>\n",
       "      <td>0</td>\n",
       "    </tr>\n",
       "    <tr>\n",
       "      <th>4</th>\n",
       "      <td>4</td>\n",
       "      <td>0</td>\n",
       "      <td>7</td>\n",
       "      <td>20210304</td>\n",
       "      <td>5740</td>\n",
       "      <td>29800.0</td>\n",
       "      <td>134265392</td>\n",
       "      <td>2</td>\n",
       "      <td>29800.0</td>\n",
       "      <td>1.0</td>\n",
       "      <td>741</td>\n",
       "      <td>8F53</td>\n",
       "      <td>0</td>\n",
       "      <td>39.0</td>\n",
       "      <td>N</td>\n",
       "      <td>세종특별자치시</td>\n",
       "      <td>S</td>\n",
       "      <td>경상북도</td>\n",
       "      <td>김천시</td>\n",
       "      <td>0</td>\n",
       "    </tr>\n",
       "    <tr>\n",
       "      <th>5</th>\n",
       "      <td>5</td>\n",
       "      <td>0</td>\n",
       "      <td>7</td>\n",
       "      <td>20210303</td>\n",
       "      <td>111951</td>\n",
       "      <td>16900.0</td>\n",
       "      <td>134265392</td>\n",
       "      <td>1</td>\n",
       "      <td>14900.0</td>\n",
       "      <td>1.0</td>\n",
       "      <td>4714</td>\n",
       "      <td>4A04</td>\n",
       "      <td>2</td>\n",
       "      <td>15.0</td>\n",
       "      <td>N</td>\n",
       "      <td>경기도</td>\n",
       "      <td>광주시</td>\n",
       "      <td>경기도</td>\n",
       "      <td>안산시</td>\n",
       "      <td>0</td>\n",
       "    </tr>\n",
       "    <tr>\n",
       "      <th>6</th>\n",
       "      <td>6</td>\n",
       "      <td>0</td>\n",
       "      <td>7</td>\n",
       "      <td>20210303</td>\n",
       "      <td>111951</td>\n",
       "      <td>14900.0</td>\n",
       "      <td>134265392</td>\n",
       "      <td>1</td>\n",
       "      <td>14900.0</td>\n",
       "      <td>1.0</td>\n",
       "      <td>4714</td>\n",
       "      <td>4A04</td>\n",
       "      <td>2</td>\n",
       "      <td>15.0</td>\n",
       "      <td>N</td>\n",
       "      <td>세종특별자치시</td>\n",
       "      <td>S</td>\n",
       "      <td>경기도</td>\n",
       "      <td>안산시</td>\n",
       "      <td>0</td>\n",
       "    </tr>\n",
       "    <tr>\n",
       "      <th>7</th>\n",
       "      <td>7</td>\n",
       "      <td>0</td>\n",
       "      <td>7</td>\n",
       "      <td>20210304</td>\n",
       "      <td>65051</td>\n",
       "      <td>14900.0</td>\n",
       "      <td>134265392</td>\n",
       "      <td>1</td>\n",
       "      <td>14900.0</td>\n",
       "      <td>1.0</td>\n",
       "      <td>5158</td>\n",
       "      <td>4C40</td>\n",
       "      <td>1</td>\n",
       "      <td>1.0</td>\n",
       "      <td>N</td>\n",
       "      <td>세종특별자치시</td>\n",
       "      <td>S</td>\n",
       "      <td>서울특별시</td>\n",
       "      <td>노원구</td>\n",
       "      <td>0</td>\n",
       "    </tr>\n",
       "    <tr>\n",
       "      <th>8</th>\n",
       "      <td>8</td>\n",
       "      <td>0</td>\n",
       "      <td>7</td>\n",
       "      <td>20210307</td>\n",
       "      <td>122337</td>\n",
       "      <td>29800.0</td>\n",
       "      <td>134265392</td>\n",
       "      <td>2</td>\n",
       "      <td>29800.0</td>\n",
       "      <td>1.0</td>\n",
       "      <td>6955</td>\n",
       "      <td>2I42</td>\n",
       "      <td>1h</td>\n",
       "      <td>31.0</td>\n",
       "      <td>N</td>\n",
       "      <td>세종특별자치시</td>\n",
       "      <td>S</td>\n",
       "      <td>충청남도</td>\n",
       "      <td>아산시</td>\n",
       "      <td>0</td>\n",
       "    </tr>\n",
       "    <tr>\n",
       "      <th>9</th>\n",
       "      <td>9</td>\n",
       "      <td>0</td>\n",
       "      <td>7</td>\n",
       "      <td>20210307</td>\n",
       "      <td>124749</td>\n",
       "      <td>29800.0</td>\n",
       "      <td>134265392</td>\n",
       "      <td>2</td>\n",
       "      <td>29800.0</td>\n",
       "      <td>1.0</td>\n",
       "      <td>K20E</td>\n",
       "      <td>5Z59</td>\n",
       "      <td>1t</td>\n",
       "      <td>41.0</td>\n",
       "      <td>N</td>\n",
       "      <td>세종특별자치시</td>\n",
       "      <td>S</td>\n",
       "      <td>대구광역시</td>\n",
       "      <td>북구</td>\n",
       "      <td>0</td>\n",
       "    </tr>\n",
       "  </tbody>\n",
       "</table>\n",
       "</div>"
      ],
      "text/plain": [
       "   Unnamed: 0  CORP_ID  BKG_TYP  BKG_DATE  BKG_TIME   INV_AMT    ITEM_CD  \\\n",
       "0           0        0        7  20210303     35510   22400.0  134265392   \n",
       "1           1        0        7  20210301    111910  119900.0  134265392   \n",
       "2           2        0        7  20210301    115608   14900.0  134265392   \n",
       "3           3        0        7  20210303     33257   29800.0  134265392   \n",
       "4           4        0        7  20210304      5740   29800.0  134265392   \n",
       "5           5        0        7  20210303    111951   16900.0  134265392   \n",
       "6           6        0        7  20210303    111951   14900.0  134265392   \n",
       "7           7        0        7  20210304     65051   14900.0  134265392   \n",
       "8           8        0        7  20210307    122337   29800.0  134265392   \n",
       "9           9        0        7  20210307    124749   29800.0  134265392   \n",
       "\n",
       "   ITEM_QTY  ITEM_AMT  DLV_DV DLVPREARRBRANCD DLVCLSFCD DLVSUBCLSFCD  \\\n",
       "0         1   14900.0     1.0            7484      5Z73            1   \n",
       "1         4   59600.0     1.0            7368      5E04            0   \n",
       "2         1   14900.0     1.0             722      5F40           2t   \n",
       "3         2   29800.0     1.0            L20L      6P95            7   \n",
       "4         2   29800.0     1.0             741      8F53            0   \n",
       "5         1   14900.0     1.0            4714      4A04            2   \n",
       "6         1   14900.0     1.0            4714      4A04            2   \n",
       "7         1   14900.0     1.0            5158      4C40            1   \n",
       "8         2   29800.0     1.0            6955      2I42           1h   \n",
       "9         2   29800.0     1.0            K20E      5Z59           1t   \n",
       "\n",
       "   POST_ZONE SPLIT_EXEC_YN SHPR_ADDR_1 SHPR_ADDR_2 CNEE_ADDR_1 CNEE_ADDR_2  \\\n",
       "0        3.0             N     세종특별자치시           S       서울특별시        서대문구   \n",
       "1       14.0             N     세종특별자치시           S         경기도         광명시   \n",
       "2       42.0             N     세종특별자치시           S       대구광역시         달서구   \n",
       "3       37.0             N     세종특별자치시           S        경상북도         포항시   \n",
       "4       39.0             N     세종특별자치시           S        경상북도         김천시   \n",
       "5       15.0             N         경기도         광주시         경기도         안산시   \n",
       "6       15.0             N     세종특별자치시           S         경기도         안산시   \n",
       "7        1.0             N     세종특별자치시           S       서울특별시         노원구   \n",
       "8       31.0             N     세종특별자치시           S        충청남도         아산시   \n",
       "9       41.0             N     세종특별자치시           S       대구광역시          북구   \n",
       "\n",
       "   cluster_id  \n",
       "0           0  \n",
       "1           0  \n",
       "2           0  \n",
       "3           0  \n",
       "4           0  \n",
       "5           0  \n",
       "6           0  \n",
       "7           0  \n",
       "8           0  \n",
       "9           0  "
      ]
     },
     "execution_count": 3,
     "metadata": {},
     "output_type": "execute_result"
    }
   ],
   "source": [
    "cluster_0.head(10)"
   ]
  },
  {
   "cell_type": "markdown",
   "metadata": {},
   "source": [
    "그렇다면 각 항목별로 x값은 기간이 되고 y값은 수요량이 되는 것이다."
   ]
  },
  {
   "cell_type": "code",
   "execution_count": 4,
   "metadata": {},
   "outputs": [],
   "source": [
    "x_train = cluster_0['BKG_DATE']\n",
    "y_train = cluster_0['ITEM_QTY'] #품목 수량"
   ]
  },
  {
   "cell_type": "code",
   "execution_count": 5,
   "metadata": {
    "scrolled": false
   },
   "outputs": [
    {
     "data": {
      "text/plain": [
       "<matplotlib.collections.PathCollection at 0x28796ddfdf0>"
      ]
     },
     "execution_count": 5,
     "metadata": {},
     "output_type": "execute_result"
    },
    {
     "data": {
      "image/png": "[encoded data removed]",
      "text/plain": [
       "<Figure size 432x288 with 1 Axes>"
      ]
     },
     "metadata": {
      "needs_background": "light"
     },
     "output_type": "display_data"
    }
   ],
   "source": [
    "plt.scatter(x_train, y_train)"
   ]
  },
  {
   "cell_type": "markdown",
   "metadata": {},
   "source": [
    "위를 봤을 때 비어있는 x들이 있는데 이게 아마 시간의 연속이 반영되지 않았기 때문이라 생각했고 datetime 형태로 생각해봐야겠음을 느꼈다."
   ]
  },
  {
   "cell_type": "code",
   "execution_count": 6,
   "metadata": {},
   "outputs": [
    {
     "data": {
      "text/html": [
       "<div>\n",
       "<style scoped>\n",
       "    .dataframe tbody tr th:only-of-type {\n",
       "        vertical-align: middle;\n",
       "    }\n",
       "\n",
       "    .dataframe tbody tr th {\n",
       "        vertical-align: top;\n",
       "    }\n",
       "\n",
       "    .dataframe thead th {\n",
       "        text-align: right;\n",
       "    }\n",
       "</style>\n",
       "<table border=\"1\" class=\"dataframe\">\n",
       "  <thead>\n",
       "    <tr style=\"text-align: right;\">\n",
       "      <th></th>\n",
       "      <th>Unnamed: 0</th>\n",
       "      <th>CORP_ID</th>\n",
       "      <th>BKG_TYP</th>\n",
       "      <th>BKG_DATE</th>\n",
       "      <th>BKG_TIME</th>\n",
       "      <th>INV_AMT</th>\n",
       "      <th>ITEM_CD</th>\n",
       "      <th>ITEM_QTY</th>\n",
       "      <th>ITEM_AMT</th>\n",
       "      <th>DLV_DV</th>\n",
       "      <th>...</th>\n",
       "      <th>DLVCLSFCD</th>\n",
       "      <th>DLVSUBCLSFCD</th>\n",
       "      <th>POST_ZONE</th>\n",
       "      <th>SPLIT_EXEC_YN</th>\n",
       "      <th>SHPR_ADDR_1</th>\n",
       "      <th>SHPR_ADDR_2</th>\n",
       "      <th>CNEE_ADDR_1</th>\n",
       "      <th>CNEE_ADDR_2</th>\n",
       "      <th>cluster_id</th>\n",
       "      <th>BKG_DATE2</th>\n",
       "    </tr>\n",
       "  </thead>\n",
       "  <tbody>\n",
       "    <tr>\n",
       "      <th>0</th>\n",
       "      <td>0</td>\n",
       "      <td>0</td>\n",
       "      <td>7</td>\n",
       "      <td>20210303</td>\n",
       "      <td>35510</td>\n",
       "      <td>22400.000000</td>\n",
       "      <td>134265392</td>\n",
       "      <td>1</td>\n",
       "      <td>14900.000000</td>\n",
       "      <td>1.0</td>\n",
       "      <td>...</td>\n",
       "      <td>5Z73</td>\n",
       "      <td>1</td>\n",
       "      <td>3.0</td>\n",
       "      <td>N</td>\n",
       "      <td>세종특별자치시</td>\n",
       "      <td>S</td>\n",
       "      <td>서울특별시</td>\n",
       "      <td>서대문구</td>\n",
       "      <td>0</td>\n",
       "      <td>2021-03-03</td>\n",
       "    </tr>\n",
       "    <tr>\n",
       "      <th>1</th>\n",
       "      <td>1</td>\n",
       "      <td>0</td>\n",
       "      <td>7</td>\n",
       "      <td>20210301</td>\n",
       "      <td>111910</td>\n",
       "      <td>119900.000000</td>\n",
       "      <td>134265392</td>\n",
       "      <td>4</td>\n",
       "      <td>59600.000000</td>\n",
       "      <td>1.0</td>\n",
       "      <td>...</td>\n",
       "      <td>5E04</td>\n",
       "      <td>0</td>\n",
       "      <td>14.0</td>\n",
       "      <td>N</td>\n",
       "      <td>세종특별자치시</td>\n",
       "      <td>S</td>\n",
       "      <td>경기도</td>\n",
       "      <td>광명시</td>\n",
       "      <td>0</td>\n",
       "      <td>2021-03-01</td>\n",
       "    </tr>\n",
       "    <tr>\n",
       "      <th>2</th>\n",
       "      <td>2</td>\n",
       "      <td>0</td>\n",
       "      <td>7</td>\n",
       "      <td>20210301</td>\n",
       "      <td>115608</td>\n",
       "      <td>14900.000000</td>\n",
       "      <td>134265392</td>\n",
       "      <td>1</td>\n",
       "      <td>14900.000000</td>\n",
       "      <td>1.0</td>\n",
       "      <td>...</td>\n",
       "      <td>5F40</td>\n",
       "      <td>2t</td>\n",
       "      <td>42.0</td>\n",
       "      <td>N</td>\n",
       "      <td>세종특별자치시</td>\n",
       "      <td>S</td>\n",
       "      <td>대구광역시</td>\n",
       "      <td>달서구</td>\n",
       "      <td>0</td>\n",
       "      <td>2021-03-01</td>\n",
       "    </tr>\n",
       "    <tr>\n",
       "      <th>3</th>\n",
       "      <td>3</td>\n",
       "      <td>0</td>\n",
       "      <td>7</td>\n",
       "      <td>20210303</td>\n",
       "      <td>33257</td>\n",
       "      <td>29800.000000</td>\n",
       "      <td>134265392</td>\n",
       "      <td>2</td>\n",
       "      <td>29800.000000</td>\n",
       "      <td>1.0</td>\n",
       "      <td>...</td>\n",
       "      <td>6P95</td>\n",
       "      <td>7</td>\n",
       "      <td>37.0</td>\n",
       "      <td>N</td>\n",
       "      <td>세종특별자치시</td>\n",
       "      <td>S</td>\n",
       "      <td>경상북도</td>\n",
       "      <td>포항시</td>\n",
       "      <td>0</td>\n",
       "      <td>2021-03-03</td>\n",
       "    </tr>\n",
       "    <tr>\n",
       "      <th>4</th>\n",
       "      <td>4</td>\n",
       "      <td>0</td>\n",
       "      <td>7</td>\n",
       "      <td>20210304</td>\n",
       "      <td>5740</td>\n",
       "      <td>29800.000000</td>\n",
       "      <td>134265392</td>\n",
       "      <td>2</td>\n",
       "      <td>29800.000000</td>\n",
       "      <td>1.0</td>\n",
       "      <td>...</td>\n",
       "      <td>8F53</td>\n",
       "      <td>0</td>\n",
       "      <td>39.0</td>\n",
       "      <td>N</td>\n",
       "      <td>세종특별자치시</td>\n",
       "      <td>S</td>\n",
       "      <td>경상북도</td>\n",
       "      <td>김천시</td>\n",
       "      <td>0</td>\n",
       "      <td>2021-03-04</td>\n",
       "    </tr>\n",
       "    <tr>\n",
       "      <th>...</th>\n",
       "      <td>...</td>\n",
       "      <td>...</td>\n",
       "      <td>...</td>\n",
       "      <td>...</td>\n",
       "      <td>...</td>\n",
       "      <td>...</td>\n",
       "      <td>...</td>\n",
       "      <td>...</td>\n",
       "      <td>...</td>\n",
       "      <td>...</td>\n",
       "      <td>...</td>\n",
       "      <td>...</td>\n",
       "      <td>...</td>\n",
       "      <td>...</td>\n",
       "      <td>...</td>\n",
       "      <td>...</td>\n",
       "      <td>...</td>\n",
       "      <td>...</td>\n",
       "      <td>...</td>\n",
       "      <td>...</td>\n",
       "      <td>...</td>\n",
       "    </tr>\n",
       "    <tr>\n",
       "      <th>741872</th>\n",
       "      <td>1786367</td>\n",
       "      <td>1</td>\n",
       "      <td>7</td>\n",
       "      <td>20210628</td>\n",
       "      <td>91210</td>\n",
       "      <td>73518.623345</td>\n",
       "      <td>00263</td>\n",
       "      <td>100</td>\n",
       "      <td>53957.716636</td>\n",
       "      <td>1.0</td>\n",
       "      <td>...</td>\n",
       "      <td>5F20</td>\n",
       "      <td>1</td>\n",
       "      <td>10.0</td>\n",
       "      <td>N</td>\n",
       "      <td>경기도</td>\n",
       "      <td>군포시</td>\n",
       "      <td>경기도</td>\n",
       "      <td>S</td>\n",
       "      <td>0</td>\n",
       "      <td>2021-06-28</td>\n",
       "    </tr>\n",
       "    <tr>\n",
       "      <th>741873</th>\n",
       "      <td>1786368</td>\n",
       "      <td>1</td>\n",
       "      <td>7</td>\n",
       "      <td>20210628</td>\n",
       "      <td>91210</td>\n",
       "      <td>73518.623345</td>\n",
       "      <td>00281</td>\n",
       "      <td>100</td>\n",
       "      <td>53957.716636</td>\n",
       "      <td>1.0</td>\n",
       "      <td>...</td>\n",
       "      <td>5F20</td>\n",
       "      <td>1</td>\n",
       "      <td>10.0</td>\n",
       "      <td>N</td>\n",
       "      <td>경기도</td>\n",
       "      <td>군포시</td>\n",
       "      <td>경기도</td>\n",
       "      <td>S</td>\n",
       "      <td>0</td>\n",
       "      <td>2021-06-28</td>\n",
       "    </tr>\n",
       "    <tr>\n",
       "      <th>741874</th>\n",
       "      <td>1786369</td>\n",
       "      <td>1</td>\n",
       "      <td>7</td>\n",
       "      <td>20210628</td>\n",
       "      <td>91210</td>\n",
       "      <td>73518.623345</td>\n",
       "      <td>00316</td>\n",
       "      <td>168</td>\n",
       "      <td>53957.716636</td>\n",
       "      <td>1.0</td>\n",
       "      <td>...</td>\n",
       "      <td>5F20</td>\n",
       "      <td>1</td>\n",
       "      <td>10.0</td>\n",
       "      <td>N</td>\n",
       "      <td>경기도</td>\n",
       "      <td>군포시</td>\n",
       "      <td>경기도</td>\n",
       "      <td>S</td>\n",
       "      <td>0</td>\n",
       "      <td>2021-06-28</td>\n",
       "    </tr>\n",
       "    <tr>\n",
       "      <th>741875</th>\n",
       "      <td>1786370</td>\n",
       "      <td>1</td>\n",
       "      <td>7</td>\n",
       "      <td>20210628</td>\n",
       "      <td>91210</td>\n",
       "      <td>73518.623345</td>\n",
       "      <td>00338</td>\n",
       "      <td>100</td>\n",
       "      <td>53957.716636</td>\n",
       "      <td>1.0</td>\n",
       "      <td>...</td>\n",
       "      <td>5F20</td>\n",
       "      <td>1</td>\n",
       "      <td>10.0</td>\n",
       "      <td>N</td>\n",
       "      <td>경기도</td>\n",
       "      <td>군포시</td>\n",
       "      <td>경기도</td>\n",
       "      <td>S</td>\n",
       "      <td>0</td>\n",
       "      <td>2021-06-28</td>\n",
       "    </tr>\n",
       "    <tr>\n",
       "      <th>741876</th>\n",
       "      <td>1786371</td>\n",
       "      <td>1</td>\n",
       "      <td>7</td>\n",
       "      <td>20210628</td>\n",
       "      <td>91210</td>\n",
       "      <td>73518.623345</td>\n",
       "      <td>00183</td>\n",
       "      <td>50</td>\n",
       "      <td>53957.716636</td>\n",
       "      <td>1.0</td>\n",
       "      <td>...</td>\n",
       "      <td>5F20</td>\n",
       "      <td>1</td>\n",
       "      <td>10.0</td>\n",
       "      <td>N</td>\n",
       "      <td>경기도</td>\n",
       "      <td>군포시</td>\n",
       "      <td>경기도</td>\n",
       "      <td>S</td>\n",
       "      <td>0</td>\n",
       "      <td>2021-06-28</td>\n",
       "    </tr>\n",
       "  </tbody>\n",
       "</table>\n",
       "<p>741877 rows × 21 columns</p>\n",
       "</div>"
      ],
      "text/plain": [
       "        Unnamed: 0  CORP_ID  BKG_TYP  BKG_DATE  BKG_TIME        INV_AMT  \\\n",
       "0                0        0        7  20210303     35510   22400.000000   \n",
       "1                1        0        7  20210301    111910  119900.000000   \n",
       "2                2        0        7  20210301    115608   14900.000000   \n",
       "3                3        0        7  20210303     33257   29800.000000   \n",
       "4                4        0        7  20210304      5740   29800.000000   \n",
       "...            ...      ...      ...       ...       ...            ...   \n",
       "741872     1786367        1        7  20210628     91210   73518.623345   \n",
       "741873     1786368        1        7  20210628     91210   73518.623345   \n",
       "741874     1786369        1        7  20210628     91210   73518.623345   \n",
       "741875     1786370        1        7  20210628     91210   73518.623345   \n",
       "741876     1786371        1        7  20210628     91210   73518.623345   \n",
       "\n",
       "          ITEM_CD  ITEM_QTY      ITEM_AMT  DLV_DV  ... DLVCLSFCD DLVSUBCLSFCD  \\\n",
       "0       134265392         1  14900.000000     1.0  ...      5Z73            1   \n",
       "1       134265392         4  59600.000000     1.0  ...      5E04            0   \n",
       "2       134265392         1  14900.000000     1.0  ...      5F40           2t   \n",
       "3       134265392         2  29800.000000     1.0  ...      6P95            7   \n",
       "4       134265392         2  29800.000000     1.0  ...      8F53            0   \n",
       "...           ...       ...           ...     ...  ...       ...          ...   \n",
       "741872      00263       100  53957.716636     1.0  ...      5F20            1   \n",
       "741873      00281       100  53957.716636     1.0  ...      5F20            1   \n",
       "741874      00316       168  53957.716636     1.0  ...      5F20            1   \n",
       "741875      00338       100  53957.716636     1.0  ...      5F20            1   \n",
       "741876      00183        50  53957.716636     1.0  ...      5F20            1   \n",
       "\n",
       "       POST_ZONE  SPLIT_EXEC_YN SHPR_ADDR_1 SHPR_ADDR_2 CNEE_ADDR_1  \\\n",
       "0            3.0              N     세종특별자치시           S       서울특별시   \n",
       "1           14.0              N     세종특별자치시           S         경기도   \n",
       "2           42.0              N     세종특별자치시           S       대구광역시   \n",
       "3           37.0              N     세종특별자치시           S        경상북도   \n",
       "4           39.0              N     세종특별자치시           S        경상북도   \n",
       "...          ...            ...         ...         ...         ...   \n",
       "741872      10.0              N         경기도         군포시         경기도   \n",
       "741873      10.0              N         경기도         군포시         경기도   \n",
       "741874      10.0              N         경기도         군포시         경기도   \n",
       "741875      10.0              N         경기도         군포시         경기도   \n",
       "741876      10.0              N         경기도         군포시         경기도   \n",
       "\n",
       "       CNEE_ADDR_2 cluster_id  BKG_DATE2  \n",
       "0             서대문구          0 2021-03-03  \n",
       "1              광명시          0 2021-03-01  \n",
       "2              달서구          0 2021-03-01  \n",
       "3              포항시          0 2021-03-03  \n",
       "4              김천시          0 2021-03-04  \n",
       "...            ...        ...        ...  \n",
       "741872           S          0 2021-06-28  \n",
       "741873           S          0 2021-06-28  \n",
       "741874           S          0 2021-06-28  \n",
       "741875           S          0 2021-06-28  \n",
       "741876           S          0 2021-06-28  \n",
       "\n",
       "[741877 rows x 21 columns]"
      ]
     },
     "execution_count": 6,
     "metadata": {},
     "output_type": "execute_result"
    }
   ],
   "source": [
    "cluster_0['BKG_DATE2']= pd.to_datetime(cluster_0['BKG_DATE'], format='%Y%m%d')\n",
    "cluster_0"
   ]
  },
  {
   "cell_type": "code",
   "execution_count": 7,
   "metadata": {},
   "outputs": [],
   "source": [
    "x=cluster_0['BKG_DATE2']\n",
    "y=cluster_0['ITEM_QTY']"
   ]
  },
  {
   "cell_type": "markdown",
   "metadata": {},
   "source": [
    "글씨 크기는 언젠가 줄일테다!"
   ]
  },
  {
   "cell_type": "code",
   "execution_count": 8,
   "metadata": {},
   "outputs": [
    {
     "data": {
      "text/plain": [
       "<matplotlib.collections.PathCollection at 0x28797ca7fa0>"
      ]
     },
     "execution_count": 8,
     "metadata": {},
     "output_type": "execute_result"
    },
    {
     "data": {
      "image/png": "[encoded data removed]",
      "text/plain": [
       "<Figure size 432x288 with 1 Axes>"
      ]
     },
     "metadata": {
      "needs_background": "light"
     },
     "output_type": "display_data"
    }
   ],
   "source": [
    "plt.scatter(x, y)"
   ]
  },
  {
   "cell_type": "code",
   "execution_count": 9,
   "metadata": {},
   "outputs": [],
   "source": [
    "from sklearn.preprocessing import PolynomialFeatures"
   ]
  },
  {
   "cell_type": "code",
   "execution_count": 10,
   "metadata": {
    "scrolled": true
   },
   "outputs": [
    {
     "data": {
      "text/html": [
       "<div>\n",
       "<style scoped>\n",
       "    .dataframe tbody tr th:only-of-type {\n",
       "        vertical-align: middle;\n",
       "    }\n",
       "\n",
       "    .dataframe tbody tr th {\n",
       "        vertical-align: top;\n",
       "    }\n",
       "\n",
       "    .dataframe thead th {\n",
       "        text-align: right;\n",
       "    }\n",
       "</style>\n",
       "<table border=\"1\" class=\"dataframe\">\n",
       "  <thead>\n",
       "    <tr style=\"text-align: right;\">\n",
       "      <th></th>\n",
       "      <th>Unnamed: 0</th>\n",
       "      <th>CORP_ID</th>\n",
       "      <th>BKG_TYP</th>\n",
       "      <th>BKG_DATE</th>\n",
       "      <th>BKG_TIME</th>\n",
       "      <th>INV_AMT</th>\n",
       "      <th>ITEM_CD</th>\n",
       "      <th>ITEM_QTY</th>\n",
       "      <th>ITEM_AMT</th>\n",
       "      <th>DLV_DV</th>\n",
       "      <th>...</th>\n",
       "      <th>DLVCLSFCD</th>\n",
       "      <th>DLVSUBCLSFCD</th>\n",
       "      <th>POST_ZONE</th>\n",
       "      <th>SPLIT_EXEC_YN</th>\n",
       "      <th>SHPR_ADDR_1</th>\n",
       "      <th>SHPR_ADDR_2</th>\n",
       "      <th>CNEE_ADDR_1</th>\n",
       "      <th>CNEE_ADDR_2</th>\n",
       "      <th>cluster_id</th>\n",
       "      <th>BKG_DATE2</th>\n",
       "    </tr>\n",
       "  </thead>\n",
       "  <tbody>\n",
       "    <tr>\n",
       "      <th>415520</th>\n",
       "      <td>873662</td>\n",
       "      <td>0</td>\n",
       "      <td>8</td>\n",
       "      <td>20210317</td>\n",
       "      <td>94945</td>\n",
       "      <td>73518.623345</td>\n",
       "      <td>11830143</td>\n",
       "      <td>163200</td>\n",
       "      <td>0.0</td>\n",
       "      <td>0.0</td>\n",
       "      <td>...</td>\n",
       "      <td>xxxxx</td>\n",
       "      <td>xxxxx</td>\n",
       "      <td>0.0</td>\n",
       "      <td>N</td>\n",
       "      <td>경기</td>\n",
       "      <td>광주시</td>\n",
       "      <td>경기도</td>\n",
       "      <td>S</td>\n",
       "      <td>0</td>\n",
       "      <td>2021-03-17</td>\n",
       "    </tr>\n",
       "  </tbody>\n",
       "</table>\n",
       "<p>1 rows × 21 columns</p>\n",
       "</div>"
      ],
      "text/plain": [
       "        Unnamed: 0  CORP_ID  BKG_TYP  BKG_DATE  BKG_TIME       INV_AMT  \\\n",
       "415520      873662        0        8  20210317     94945  73518.623345   \n",
       "\n",
       "         ITEM_CD  ITEM_QTY  ITEM_AMT  DLV_DV  ... DLVCLSFCD DLVSUBCLSFCD  \\\n",
       "415520  11830143    163200       0.0     0.0  ...     xxxxx        xxxxx   \n",
       "\n",
       "       POST_ZONE  SPLIT_EXEC_YN SHPR_ADDR_1 SHPR_ADDR_2 CNEE_ADDR_1  \\\n",
       "415520       0.0              N          경기         광주시         경기도   \n",
       "\n",
       "       CNEE_ADDR_2 cluster_id  BKG_DATE2  \n",
       "415520           S          0 2021-03-17  \n",
       "\n",
       "[1 rows x 21 columns]"
      ]
     },
     "execution_count": 10,
     "metadata": {},
     "output_type": "execute_result"
    }
   ],
   "source": [
    "cluster_0['ITEM_QTY'].max()\n",
    "cluster_0_max1 = (cluster_0.ITEM_QTY ==163200)\n",
    "cluster_0[cluster_0_max1]"
   ]
  },
  {
   "cell_type": "code",
   "execution_count": 11,
   "metadata": {},
   "outputs": [
    {
     "data": {
      "text/html": [
       "<div>\n",
       "<style scoped>\n",
       "    .dataframe tbody tr th:only-of-type {\n",
       "        vertical-align: middle;\n",
       "    }\n",
       "\n",
       "    .dataframe tbody tr th {\n",
       "        vertical-align: top;\n",
       "    }\n",
       "\n",
       "    .dataframe thead th {\n",
       "        text-align: right;\n",
       "    }\n",
       "</style>\n",
       "<table border=\"1\" class=\"dataframe\">\n",
       "  <thead>\n",
       "    <tr style=\"text-align: right;\">\n",
       "      <th></th>\n",
       "      <th>Unnamed: 0</th>\n",
       "      <th>CORP_ID</th>\n",
       "      <th>BKG_TYP</th>\n",
       "      <th>BKG_DATE</th>\n",
       "      <th>BKG_TIME</th>\n",
       "      <th>INV_AMT</th>\n",
       "      <th>ITEM_CD</th>\n",
       "      <th>ITEM_QTY</th>\n",
       "      <th>ITEM_AMT</th>\n",
       "      <th>DLV_DV</th>\n",
       "      <th>...</th>\n",
       "      <th>DLVCLSFCD</th>\n",
       "      <th>DLVSUBCLSFCD</th>\n",
       "      <th>POST_ZONE</th>\n",
       "      <th>SPLIT_EXEC_YN</th>\n",
       "      <th>SHPR_ADDR_1</th>\n",
       "      <th>SHPR_ADDR_2</th>\n",
       "      <th>CNEE_ADDR_1</th>\n",
       "      <th>CNEE_ADDR_2</th>\n",
       "      <th>cluster_id</th>\n",
       "      <th>BKG_DATE2</th>\n",
       "    </tr>\n",
       "  </thead>\n",
       "  <tbody>\n",
       "    <tr>\n",
       "      <th>415520</th>\n",
       "      <td>873662</td>\n",
       "      <td>0</td>\n",
       "      <td>8</td>\n",
       "      <td>20210317</td>\n",
       "      <td>94945</td>\n",
       "      <td>73518.623345</td>\n",
       "      <td>11830143</td>\n",
       "      <td>163200</td>\n",
       "      <td>0.0</td>\n",
       "      <td>0.0</td>\n",
       "      <td>...</td>\n",
       "      <td>xxxxx</td>\n",
       "      <td>xxxxx</td>\n",
       "      <td>0.0</td>\n",
       "      <td>N</td>\n",
       "      <td>경기</td>\n",
       "      <td>광주시</td>\n",
       "      <td>경기도</td>\n",
       "      <td>S</td>\n",
       "      <td>0</td>\n",
       "      <td>2021-03-17</td>\n",
       "    </tr>\n",
       "  </tbody>\n",
       "</table>\n",
       "<p>1 rows × 21 columns</p>\n",
       "</div>"
      ],
      "text/plain": [
       "        Unnamed: 0  CORP_ID  BKG_TYP  BKG_DATE  BKG_TIME       INV_AMT  \\\n",
       "415520      873662        0        8  20210317     94945  73518.623345   \n",
       "\n",
       "         ITEM_CD  ITEM_QTY  ITEM_AMT  DLV_DV  ... DLVCLSFCD DLVSUBCLSFCD  \\\n",
       "415520  11830143    163200       0.0     0.0  ...     xxxxx        xxxxx   \n",
       "\n",
       "       POST_ZONE  SPLIT_EXEC_YN SHPR_ADDR_1 SHPR_ADDR_2 CNEE_ADDR_1  \\\n",
       "415520       0.0              N          경기         광주시         경기도   \n",
       "\n",
       "       CNEE_ADDR_2 cluster_id  BKG_DATE2  \n",
       "415520           S          0 2021-03-17  \n",
       "\n",
       "[1 rows x 21 columns]"
      ]
     },
     "execution_count": 11,
     "metadata": {},
     "output_type": "execute_result"
    }
   ],
   "source": [
    "cluster_0_max1 = (cluster_0.ITEM_CD=='11830143')\n",
    "cluster_0[cluster_0_max1]"
   ]
  },
  {
   "cell_type": "markdown",
   "metadata": {},
   "source": [
    "이게 지금 뭐하는거냐면 일단 max값을 가진 애를 3개 찾아내서 그에 해당하는 아이템 품목을 Linear Regression 하려는 목적."
   ]
  },
  {
   "cell_type": "code",
   "execution_count": 12,
   "metadata": {},
   "outputs": [],
   "source": [
    "cluster_0_max1 = cluster_0[cluster_0['ITEM_QTY']==163200].index"
   ]
  },
  {
   "cell_type": "code",
   "execution_count": 13,
   "metadata": {},
   "outputs": [],
   "source": [
    "cluster_0= cluster_0.drop(cluster_0_max1)"
   ]
  },
  {
   "cell_type": "code",
   "execution_count": 14,
   "metadata": {},
   "outputs": [
    {
     "data": {
      "text/plain": [
       "29400"
      ]
     },
     "execution_count": 14,
     "metadata": {},
     "output_type": "execute_result"
    }
   ],
   "source": [
    "cluster_0_max2 = cluster_0['ITEM_QTY'].max()\n",
    "cluster_0_max2"
   ]
  },
  {
   "cell_type": "code",
   "execution_count": 15,
   "metadata": {},
   "outputs": [],
   "source": [
    "cluster_0_max2 = cluster_0[cluster_0['ITEM_QTY']==29400].index"
   ]
  },
  {
   "cell_type": "code",
   "execution_count": 16,
   "metadata": {},
   "outputs": [],
   "source": [
    "cluster_0= cluster_0.drop(cluster_0_max2)"
   ]
  },
  {
   "cell_type": "code",
   "execution_count": 17,
   "metadata": {},
   "outputs": [
    {
     "data": {
      "text/plain": [
       "23000"
      ]
     },
     "execution_count": 17,
     "metadata": {},
     "output_type": "execute_result"
    }
   ],
   "source": [
    "cluster_0['ITEM_QTY'].max()"
   ]
  },
  {
   "cell_type": "code",
   "execution_count": 18,
   "metadata": {},
   "outputs": [],
   "source": [
    "cluster_0_max3 = cluster_0['ITEM_QTY'].max()\n",
    "cluster_0_max3 = cluster_0[cluster_0['ITEM_QTY']==23000].index"
   ]
  },
  {
   "cell_type": "code",
   "execution_count": 19,
   "metadata": {},
   "outputs": [],
   "source": [
    "cluster_0 = cluster_0.drop(cluster_0_max3)"
   ]
  },
  {
   "cell_type": "code",
   "execution_count": 20,
   "metadata": {
    "scrolled": false
   },
   "outputs": [
    {
     "data": {
      "text/plain": [
       "<matplotlib.collections.PathCollection at 0x287979695e0>"
      ]
     },
     "execution_count": 20,
     "metadata": {},
     "output_type": "execute_result"
    },
    {
     "data": {
      "image/png": "[encoded data removed]",
      "text/plain": [
       "<Figure size 432x288 with 1 Axes>"
      ]
     },
     "metadata": {
      "needs_background": "light"
     },
     "output_type": "display_data"
    }
   ],
   "source": [
    "x = cluster_0['BKG_DATE2']\n",
    "y= cluster_0['ITEM_QTY']\n",
    "plt.scatter(x,y)"
   ]
  },
  {
   "cell_type": "code",
   "execution_count": 21,
   "metadata": {},
   "outputs": [
    {
     "data": {
      "text/plain": [
       "Int64Index([415520], dtype='int64')"
      ]
     },
     "execution_count": 21,
     "metadata": {},
     "output_type": "execute_result"
    }
   ],
   "source": [
    "cluster_0_max1"
   ]
  },
  {
   "cell_type": "markdown",
   "metadata": {},
   "source": [
    "그냥 바로 리니어 리그레션 때리기!"
   ]
  },
  {
   "cell_type": "code",
   "execution_count": 42,
   "metadata": {},
   "outputs": [],
   "source": [
    "#datetime 은 바로 linear regression을 못쓴다고 함! 그래서 이런식의 변환이 필요\n",
    "import datetime as dt\n",
    "cluster_0['BKG_DATE2'] = pd.to_datetime(cluster_0['BKG_DATE2'])\n",
    "cluster_0['BKG_DATE2']= cluster_0['BKG_DATE2'].map(dt.datetime.toordinal)"
   ]
  },
  {
   "cell_type": "code",
   "execution_count": 43,
   "metadata": {},
   "outputs": [],
   "source": [
    "y= np.asarray(cluster_0['ITEM_QTY'])\n",
    "X = cluster_0[['BKG_DATE2']]"
   ]
  },
  {
   "cell_type": "code",
   "execution_count": 44,
   "metadata": {},
   "outputs": [
    {
     "ename": "SyntaxError",
     "evalue": "invalid syntax (<ipython-input-44-ed5b4a3864a0>, line 2)",
     "output_type": "error",
     "traceback": [
      "\u001b[1;36m  File \u001b[1;32m\"<ipython-input-44-ed5b4a3864a0>\"\u001b[1;36m, line \u001b[1;32m2\u001b[0m\n\u001b[1;33m    (X,y,train_size=7,random_state=42)\u001b[0m\n\u001b[1;37m                   ^\u001b[0m\n\u001b[1;31mSyntaxError\u001b[0m\u001b[1;31m:\u001b[0m invalid syntax\n"
     ]
    }
   ],
   "source": [
    "X_train, X_test, y_train, y_test = train_test_split             \n",
    "(X,y,train_size=7,random_state=42)"
   ]
  },
  {
   "cell_type": "markdown",
   "metadata": {},
   "source": [
    "### Tensorflow 구현 -> linear regression"
   ]
  },
  {
   "cell_type": "code",
   "execution_count": 22,
   "metadata": {},
   "outputs": [],
   "source": [
    "import tensorflow as tf\n",
    "import numpy as np"
   ]
  },
  {
   "cell_type": "code",
   "execution_count": 24,
   "metadata": {},
   "outputs": [],
   "source": [
    "cluster_0_lr = cluster_0[['ITEM_QTY','BKG_DATE2']]"
   ]
  },
  {
   "cell_type": "code",
   "execution_count": 29,
   "metadata": {},
   "outputs": [],
   "source": [
    "#data    \n",
    "list_cluster_0 = cluster_0_lr.values.tolist()"
   ]
  },
  {
   "cell_type": "code",
   "execution_count": 33,
   "metadata": {},
   "outputs": [],
   "source": [
    "x_data =[]\n",
    "y_data =[]\n",
    "for i in range(0,len(list_cluster_0)):\n",
    "    x_data = list_cluster_0[i][1]\n",
    "    y_data = list_cluster_0[i][0]"
   ]
  },
  {
   "cell_type": "code",
   "execution_count": 36,
   "metadata": {},
   "outputs": [
    {
     "ename": "TypeError",
     "evalue": "'Timestamp' object is not subscriptable",
     "output_type": "error",
     "traceback": [
      "\u001b[1;31m---------------------------------------------------------------------------\u001b[0m",
      "\u001b[1;31mTypeError\u001b[0m                                 Traceback (most recent call last)",
      "\u001b[1;32m<ipython-input-36-7261c5434671>\u001b[0m in \u001b[0;36m<module>\u001b[1;34m\u001b[0m\n\u001b[1;32m----> 1\u001b[1;33m \u001b[0mx_data\u001b[0m\u001b[1;33m[\u001b[0m\u001b[1;36m3\u001b[0m\u001b[1;33m]\u001b[0m\u001b[1;33m\u001b[0m\u001b[1;33m\u001b[0m\u001b[0m\n\u001b[0m",
      "\u001b[1;31mTypeError\u001b[0m: 'Timestamp' object is not subscriptable"
     ]
    }
   ],
   "source": [
    "x_data[3]"
   ]
  },
  {
   "cell_type": "code",
   "execution_count": 45,
   "metadata": {},
   "outputs": [],
   "source": [
    "from sklearn.model_selection import train_test_split\n",
    "from sklearn.linear_model import LinearRegression\n",
    "from sklearn.metrics import mean_squared_error, r2_score"
   ]
  },
  {
   "cell_type": "code",
   "execution_count": 46,
   "metadata": {},
   "outputs": [],
   "source": [
    "lr = LinearRegression()"
   ]
  },
  {
   "cell_type": "code",
   "execution_count": 47,
   "metadata": {},
   "outputs": [
    {
     "name": "stdout",
     "output_type": "stream",
     "text": [
      "<class 'pandas.core.frame.DataFrame'>\n",
      "Int64Index: 741874 entries, 0 to 741876\n",
      "Data columns (total 21 columns):\n",
      " #   Column           Non-Null Count   Dtype  \n",
      "---  ------           --------------   -----  \n",
      " 0   Unnamed: 0       741874 non-null  int64  \n",
      " 1   CORP_ID          741874 non-null  int64  \n",
      " 2   BKG_TYP          741874 non-null  int64  \n",
      " 3   BKG_DATE         741874 non-null  int64  \n",
      " 4   BKG_TIME         741874 non-null  int64  \n",
      " 5   INV_AMT          741874 non-null  float64\n",
      " 6   ITEM_CD          741874 non-null  object \n",
      " 7   ITEM_QTY         741874 non-null  int64  \n",
      " 8   ITEM_AMT         741874 non-null  float64\n",
      " 9   DLV_DV           741874 non-null  float64\n",
      " 10  DLVPREARRBRANCD  741874 non-null  object \n",
      " 11  DLVCLSFCD        741874 non-null  object \n",
      " 12  DLVSUBCLSFCD     741874 non-null  object \n",
      " 13  POST_ZONE        741874 non-null  float64\n",
      " 14  SPLIT_EXEC_YN    741874 non-null  object \n",
      " 15  SHPR_ADDR_1      741874 non-null  object \n",
      " 16  SHPR_ADDR_2      741874 non-null  object \n",
      " 17  CNEE_ADDR_1      741874 non-null  object \n",
      " 18  CNEE_ADDR_2      741874 non-null  object \n",
      " 19  cluster_id       741874 non-null  int64  \n",
      " 20  BKG_DATE2        741874 non-null  int64  \n",
      "dtypes: float64(4), int64(8), object(9)\n",
      "memory usage: 124.5+ MB\n"
     ]
    }
   ],
   "source": [
    "y_target = cluster_0['ITEM_QTY']\n",
    "X_data = cluster_0['BKG_DATE']\n",
    "cluster_0.head()\n",
    "cluster_0.info()"
   ]
  },
  {
   "cell_type": "code",
   "execution_count": 48,
   "metadata": {},
   "outputs": [],
   "source": [
    "from sklearn import linear_model"
   ]
  },
  {
   "cell_type": "code",
   "execution_count": 49,
   "metadata": {},
   "outputs": [],
   "source": [
    "X_train, X_test, y_train, y_test = train_test_split(X_data, y_target, test_size=0.3, random_state =156)"
   ]
  },
  {
   "cell_type": "code",
   "execution_count": 50,
   "metadata": {},
   "outputs": [],
   "source": [
    "linear_regression_model = linear_model.LinearRegression()\n",
    "linear_regression_model.fit(X = pd.DataFrame(X_train), y=y_train)\n",
    "linear_regression_model_prediction = linear_regression_model.predict(X = pd.DataFrame(X_data))"
   ]
  },
  {
   "cell_type": "code",
   "execution_count": 52,
   "metadata": {},
   "outputs": [
    {
     "ename": "ValueError",
     "evalue": "Expected 2D array, got 1D array instead:\narray=[20210613 20210517 20210327 ... 20210607 20210425 20210525].\nReshape your data either using array.reshape(-1, 1) if your data has a single feature or array.reshape(1, -1) if it contains a single sample.",
     "output_type": "error",
     "traceback": [
      "\u001b[1;31m---------------------------------------------------------------------------\u001b[0m",
      "\u001b[1;31mValueError\u001b[0m                                Traceback (most recent call last)",
      "\u001b[1;32m<ipython-input-52-b6d1a19ce736>\u001b[0m in \u001b[0;36m<module>\u001b[1;34m\u001b[0m\n\u001b[0;32m      1\u001b[0m \u001b[0mmodel\u001b[0m \u001b[1;33m=\u001b[0m \u001b[0mLinearRegression\u001b[0m\u001b[1;33m(\u001b[0m\u001b[1;33m)\u001b[0m \u001b[1;31m#create linear regression object\u001b[0m\u001b[1;33m\u001b[0m\u001b[1;33m\u001b[0m\u001b[0m\n\u001b[1;32m----> 2\u001b[1;33m \u001b[0mmodel\u001b[0m\u001b[1;33m.\u001b[0m\u001b[0mfit\u001b[0m\u001b[1;33m(\u001b[0m\u001b[0mX_train\u001b[0m\u001b[1;33m,\u001b[0m \u001b[0my_train\u001b[0m\u001b[1;33m)\u001b[0m \u001b[1;31m#train model on train data\u001b[0m\u001b[1;33m\u001b[0m\u001b[1;33m\u001b[0m\u001b[0m\n\u001b[0m\u001b[0;32m      3\u001b[0m \u001b[0mmodel\u001b[0m\u001b[1;33m.\u001b[0m\u001b[0mscore\u001b[0m\u001b[1;33m(\u001b[0m\u001b[0mX_train\u001b[0m\u001b[1;33m,\u001b[0m \u001b[0my_train\u001b[0m\u001b[1;33m)\u001b[0m\u001b[1;33m\u001b[0m\u001b[1;33m\u001b[0m\u001b[0m\n",
      "\u001b[1;32mC:\\anan\\lib\\site-packages\\sklearn\\linear_model\\_base.py\u001b[0m in \u001b[0;36mfit\u001b[1;34m(self, X, y, sample_weight)\u001b[0m\n\u001b[0;32m    503\u001b[0m \u001b[1;33m\u001b[0m\u001b[0m\n\u001b[0;32m    504\u001b[0m         \u001b[0mn_jobs_\u001b[0m \u001b[1;33m=\u001b[0m \u001b[0mself\u001b[0m\u001b[1;33m.\u001b[0m\u001b[0mn_jobs\u001b[0m\u001b[1;33m\u001b[0m\u001b[1;33m\u001b[0m\u001b[0m\n\u001b[1;32m--> 505\u001b[1;33m         X, y = self._validate_data(X, y, accept_sparse=['csr', 'csc', 'coo'],\n\u001b[0m\u001b[0;32m    506\u001b[0m                                    y_numeric=True, multi_output=True)\n\u001b[0;32m    507\u001b[0m \u001b[1;33m\u001b[0m\u001b[0m\n",
      "\u001b[1;32mC:\\anan\\lib\\site-packages\\sklearn\\base.py\u001b[0m in \u001b[0;36m_validate_data\u001b[1;34m(self, X, y, reset, validate_separately, **check_params)\u001b[0m\n\u001b[0;32m    430\u001b[0m                 \u001b[0my\u001b[0m \u001b[1;33m=\u001b[0m \u001b[0mcheck_array\u001b[0m\u001b[1;33m(\u001b[0m\u001b[0my\u001b[0m\u001b[1;33m,\u001b[0m \u001b[1;33m**\u001b[0m\u001b[0mcheck_y_params\u001b[0m\u001b[1;33m)\u001b[0m\u001b[1;33m\u001b[0m\u001b[1;33m\u001b[0m\u001b[0m\n\u001b[0;32m    431\u001b[0m             \u001b[1;32melse\u001b[0m\u001b[1;33m:\u001b[0m\u001b[1;33m\u001b[0m\u001b[1;33m\u001b[0m\u001b[0m\n\u001b[1;32m--> 432\u001b[1;33m                 \u001b[0mX\u001b[0m\u001b[1;33m,\u001b[0m \u001b[0my\u001b[0m \u001b[1;33m=\u001b[0m \u001b[0mcheck_X_y\u001b[0m\u001b[1;33m(\u001b[0m\u001b[0mX\u001b[0m\u001b[1;33m,\u001b[0m \u001b[0my\u001b[0m\u001b[1;33m,\u001b[0m \u001b[1;33m**\u001b[0m\u001b[0mcheck_params\u001b[0m\u001b[1;33m)\u001b[0m\u001b[1;33m\u001b[0m\u001b[1;33m\u001b[0m\u001b[0m\n\u001b[0m\u001b[0;32m    433\u001b[0m             \u001b[0mout\u001b[0m \u001b[1;33m=\u001b[0m \u001b[0mX\u001b[0m\u001b[1;33m,\u001b[0m \u001b[0my\u001b[0m\u001b[1;33m\u001b[0m\u001b[1;33m\u001b[0m\u001b[0m\n\u001b[0;32m    434\u001b[0m \u001b[1;33m\u001b[0m\u001b[0m\n",
      "\u001b[1;32mC:\\anan\\lib\\site-packages\\sklearn\\utils\\validation.py\u001b[0m in \u001b[0;36minner_f\u001b[1;34m(*args, **kwargs)\u001b[0m\n\u001b[0;32m     70\u001b[0m                           FutureWarning)\n\u001b[0;32m     71\u001b[0m         \u001b[0mkwargs\u001b[0m\u001b[1;33m.\u001b[0m\u001b[0mupdate\u001b[0m\u001b[1;33m(\u001b[0m\u001b[1;33m{\u001b[0m\u001b[0mk\u001b[0m\u001b[1;33m:\u001b[0m \u001b[0marg\u001b[0m \u001b[1;32mfor\u001b[0m \u001b[0mk\u001b[0m\u001b[1;33m,\u001b[0m \u001b[0marg\u001b[0m \u001b[1;32min\u001b[0m \u001b[0mzip\u001b[0m\u001b[1;33m(\u001b[0m\u001b[0msig\u001b[0m\u001b[1;33m.\u001b[0m\u001b[0mparameters\u001b[0m\u001b[1;33m,\u001b[0m \u001b[0margs\u001b[0m\u001b[1;33m)\u001b[0m\u001b[1;33m}\u001b[0m\u001b[1;33m)\u001b[0m\u001b[1;33m\u001b[0m\u001b[1;33m\u001b[0m\u001b[0m\n\u001b[1;32m---> 72\u001b[1;33m         \u001b[1;32mreturn\u001b[0m \u001b[0mf\u001b[0m\u001b[1;33m(\u001b[0m\u001b[1;33m**\u001b[0m\u001b[0mkwargs\u001b[0m\u001b[1;33m)\u001b[0m\u001b[1;33m\u001b[0m\u001b[1;33m\u001b[0m\u001b[0m\n\u001b[0m\u001b[0;32m     73\u001b[0m     \u001b[1;32mreturn\u001b[0m \u001b[0minner_f\u001b[0m\u001b[1;33m\u001b[0m\u001b[1;33m\u001b[0m\u001b[0m\n\u001b[0;32m     74\u001b[0m \u001b[1;33m\u001b[0m\u001b[0m\n",
      "\u001b[1;32mC:\\anan\\lib\\site-packages\\sklearn\\utils\\validation.py\u001b[0m in \u001b[0;36mcheck_X_y\u001b[1;34m(X, y, accept_sparse, accept_large_sparse, dtype, order, copy, force_all_finite, ensure_2d, allow_nd, multi_output, ensure_min_samples, ensure_min_features, y_numeric, estimator)\u001b[0m\n\u001b[0;32m    793\u001b[0m         \u001b[1;32mraise\u001b[0m \u001b[0mValueError\u001b[0m\u001b[1;33m(\u001b[0m\u001b[1;34m\"y cannot be None\"\u001b[0m\u001b[1;33m)\u001b[0m\u001b[1;33m\u001b[0m\u001b[1;33m\u001b[0m\u001b[0m\n\u001b[0;32m    794\u001b[0m \u001b[1;33m\u001b[0m\u001b[0m\n\u001b[1;32m--> 795\u001b[1;33m     X = check_array(X, accept_sparse=accept_sparse,\n\u001b[0m\u001b[0;32m    796\u001b[0m                     \u001b[0maccept_large_sparse\u001b[0m\u001b[1;33m=\u001b[0m\u001b[0maccept_large_sparse\u001b[0m\u001b[1;33m,\u001b[0m\u001b[1;33m\u001b[0m\u001b[1;33m\u001b[0m\u001b[0m\n\u001b[0;32m    797\u001b[0m                     \u001b[0mdtype\u001b[0m\u001b[1;33m=\u001b[0m\u001b[0mdtype\u001b[0m\u001b[1;33m,\u001b[0m \u001b[0morder\u001b[0m\u001b[1;33m=\u001b[0m\u001b[0morder\u001b[0m\u001b[1;33m,\u001b[0m \u001b[0mcopy\u001b[0m\u001b[1;33m=\u001b[0m\u001b[0mcopy\u001b[0m\u001b[1;33m,\u001b[0m\u001b[1;33m\u001b[0m\u001b[1;33m\u001b[0m\u001b[0m\n",
      "\u001b[1;32mC:\\anan\\lib\\site-packages\\sklearn\\utils\\validation.py\u001b[0m in \u001b[0;36minner_f\u001b[1;34m(*args, **kwargs)\u001b[0m\n\u001b[0;32m     70\u001b[0m                           FutureWarning)\n\u001b[0;32m     71\u001b[0m         \u001b[0mkwargs\u001b[0m\u001b[1;33m.\u001b[0m\u001b[0mupdate\u001b[0m\u001b[1;33m(\u001b[0m\u001b[1;33m{\u001b[0m\u001b[0mk\u001b[0m\u001b[1;33m:\u001b[0m \u001b[0marg\u001b[0m \u001b[1;32mfor\u001b[0m \u001b[0mk\u001b[0m\u001b[1;33m,\u001b[0m \u001b[0marg\u001b[0m \u001b[1;32min\u001b[0m \u001b[0mzip\u001b[0m\u001b[1;33m(\u001b[0m\u001b[0msig\u001b[0m\u001b[1;33m.\u001b[0m\u001b[0mparameters\u001b[0m\u001b[1;33m,\u001b[0m \u001b[0margs\u001b[0m\u001b[1;33m)\u001b[0m\u001b[1;33m}\u001b[0m\u001b[1;33m)\u001b[0m\u001b[1;33m\u001b[0m\u001b[1;33m\u001b[0m\u001b[0m\n\u001b[1;32m---> 72\u001b[1;33m         \u001b[1;32mreturn\u001b[0m \u001b[0mf\u001b[0m\u001b[1;33m(\u001b[0m\u001b[1;33m**\u001b[0m\u001b[0mkwargs\u001b[0m\u001b[1;33m)\u001b[0m\u001b[1;33m\u001b[0m\u001b[1;33m\u001b[0m\u001b[0m\n\u001b[0m\u001b[0;32m     73\u001b[0m     \u001b[1;32mreturn\u001b[0m \u001b[0minner_f\u001b[0m\u001b[1;33m\u001b[0m\u001b[1;33m\u001b[0m\u001b[0m\n\u001b[0;32m     74\u001b[0m \u001b[1;33m\u001b[0m\u001b[0m\n",
      "\u001b[1;32mC:\\anan\\lib\\site-packages\\sklearn\\utils\\validation.py\u001b[0m in \u001b[0;36mcheck_array\u001b[1;34m(array, accept_sparse, accept_large_sparse, dtype, order, copy, force_all_finite, ensure_2d, allow_nd, ensure_min_samples, ensure_min_features, estimator)\u001b[0m\n\u001b[0;32m    617\u001b[0m             \u001b[1;31m# If input is 1D raise error\u001b[0m\u001b[1;33m\u001b[0m\u001b[1;33m\u001b[0m\u001b[1;33m\u001b[0m\u001b[0m\n\u001b[0;32m    618\u001b[0m             \u001b[1;32mif\u001b[0m \u001b[0marray\u001b[0m\u001b[1;33m.\u001b[0m\u001b[0mndim\u001b[0m \u001b[1;33m==\u001b[0m \u001b[1;36m1\u001b[0m\u001b[1;33m:\u001b[0m\u001b[1;33m\u001b[0m\u001b[1;33m\u001b[0m\u001b[0m\n\u001b[1;32m--> 619\u001b[1;33m                 raise ValueError(\n\u001b[0m\u001b[0;32m    620\u001b[0m                     \u001b[1;34m\"Expected 2D array, got 1D array instead:\\narray={}.\\n\"\u001b[0m\u001b[1;33m\u001b[0m\u001b[1;33m\u001b[0m\u001b[0m\n\u001b[0;32m    621\u001b[0m                     \u001b[1;34m\"Reshape your data either using array.reshape(-1, 1) if \"\u001b[0m\u001b[1;33m\u001b[0m\u001b[1;33m\u001b[0m\u001b[0m\n",
      "\u001b[1;31mValueError\u001b[0m: Expected 2D array, got 1D array instead:\narray=[20210613 20210517 20210327 ... 20210607 20210425 20210525].\nReshape your data either using array.reshape(-1, 1) if your data has a single feature or array.reshape(1, -1) if it contains a single sample."
     ]
    }
   ],
   "source": [
    "model = LinearRegression() #create linear regression object\n",
    "model.fit(X_train, y_train) #train model on train data\n",
    "model.score(X_train, y_train)"
   ]
  },
  {
   "cell_type": "code",
   "execution_count": 51,
   "metadata": {
    "scrolled": true
   },
   "outputs": [
    {
     "ename": "AttributeError",
     "evalue": "'function' object has no attribute 'plot'",
     "output_type": "error",
     "traceback": [
      "\u001b[1;31m---------------------------------------------------------------------------\u001b[0m",
      "\u001b[1;31mAttributeError\u001b[0m                            Traceback (most recent call last)",
      "\u001b[1;32m<ipython-input-51-b7f02faaf50a>\u001b[0m in \u001b[0;36m<module>\u001b[1;34m\u001b[0m\n\u001b[0;32m      1\u001b[0m \u001b[0mfig\u001b[0m \u001b[1;33m=\u001b[0m \u001b[0mplt\u001b[0m\u001b[1;33m.\u001b[0m\u001b[0mfigure\u001b[0m\u001b[1;33m(\u001b[0m\u001b[0mfigsize\u001b[0m \u001b[1;33m=\u001b[0m\u001b[1;33m(\u001b[0m\u001b[1;36m12\u001b[0m\u001b[1;33m,\u001b[0m\u001b[1;36m4\u001b[0m\u001b[1;33m)\u001b[0m\u001b[1;33m)\u001b[0m\u001b[1;33m\u001b[0m\u001b[1;33m\u001b[0m\u001b[0m\n\u001b[0;32m      2\u001b[0m \u001b[0mgraph\u001b[0m \u001b[1;33m=\u001b[0m \u001b[0mfig\u001b[0m\u001b[1;33m.\u001b[0m\u001b[0madd_subplot\u001b[0m\u001b[1;33m\u001b[0m\u001b[1;33m\u001b[0m\u001b[0m\n\u001b[1;32m----> 3\u001b[1;33m \u001b[0mgraph\u001b[0m\u001b[1;33m.\u001b[0m\u001b[0mplot\u001b[0m\u001b[1;33m(\u001b[0m\u001b[0mYY_data\u001b[0m\u001b[1;33m)\u001b[0m\u001b[1;33m\u001b[0m\u001b[1;33m\u001b[0m\u001b[0m\n\u001b[0m",
      "\u001b[1;31mAttributeError\u001b[0m: 'function' object has no attribute 'plot'"
     ]
    },
    {
     "data": {
      "text/plain": [
       "<Figure size 864x288 with 0 Axes>"
      ]
     },
     "metadata": {},
     "output_type": "display_data"
    }
   ],
   "source": [
    "fig = plt.figure(figsize =(12,4))\n",
    "graph = fig.add_subplot\n",
    "graph.plot(YY_data)"
   ]
  },
  {
   "cell_type": "code",
   "execution_count": null,
   "metadata": {
    "scrolled": false
   },
   "outputs": [],
   "source": [
    "lr=LinearRegression\n",
    "lr.fit(X_train, y_train)\n",
    "y_preds = lr.predict(X_test)\n",
    "mse = mean_squared_error(y_test, y_preds)\n",
    "rmse = np.sqrt(mse)\n",
    "\n",
    "print('MSE : {0:.3f}, RMSE:{1:.3f}'.format(mse,rmse))\n",
    "print('Variance score : {0:.3f}'.format(r2_score(y_test, y_preds)))"
   ]
  },
  {
   "cell_type": "code",
   "execution_count": null,
   "metadata": {
    "scrolled": true
   },
   "outputs": [],
   "source": [
    "fig, axs = plt.subplots(figsize=(16,8),ncols=4,nrows=2)\n",
    "lm_features = "
   ]
  },
  {
   "cell_type": "code",
   "execution_count": null,
   "metadata": {},
   "outputs": [],
   "source": []
  }
 ],
 "metadata": {
  "kernelspec": {
   "display_name": "Python 3",
   "language": "python",
   "name": "python3"
  },
  "language_info": {
   "codemirror_mode": {
    "name": "ipython",
    "version": 3
   },
   "file_extension": ".py",
   "mimetype": "text/x-python",
   "name": "python",
   "nbconvert_exporter": "python",
   "pygments_lexer": "ipython3",
   "version": "3.8.5"
  }
 },
 "nbformat": 4,
 "nbformat_minor": 4
}
