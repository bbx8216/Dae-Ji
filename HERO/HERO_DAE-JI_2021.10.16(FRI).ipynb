{
 "cells": [
  {
   "cell_type": "markdown",
   "id": "b308315c",
   "metadata": {},
   "source": [
    "### 필요한 데이터 (column)\n",
    "\n",
    ": 수화인 주소 \"CNEE_ADDR_1\", \"CNEE_ADDR_2\"\n",
    "\n",
    ": 품목 코드 \"ITEM_CD\"\n",
    "\n",
    "### 문제\n",
    "\n",
    "1) 품목 개수 너무 많아서 그래프로 표현했다 하더라도 그래프가 다 겹쳐서 식별이 힘들 것으로 예상\n",
    "-> 품목 코드별로 주문 상품 개수를 본 다음에 사람들이 많이 시키는 것(몇 개 이상)만 추려서 그것만 그래프 그리기? \n",
    "-> 그럼 그 몇 개는 어떻게 정할 것인가? 평균..? 극과 극 값이 있어서 중앙값...?\n",
    "\n",
    "-> 3월 데이터의 경우, 품목 중에 제일 적은 개수 1개, 제일 많은 개수 1500개...?? 품목이 너무 많아서 다 보진 못했음\n",
    "-> 3월 데이터 품목 종류만 6051개......... 이게 뭐지.....\n",
    "\n",
    "2) 지역을 어떻게 나눌 것인가? 특별시, 광역시, 도 vs 시까지..?? 시까지 하면 근데 너무 많을듯 이건 도까지 하는 게 맞을 듯\n"
   ]
  },
  {
   "cell_type": "code",
   "execution_count": 3,
   "id": "724c8095",
   "metadata": {},
   "outputs": [],
   "source": [
    "import sys\n",
    "import numpy as np\n",
    "import pandas as pd"
   ]
  },
  {
   "cell_type": "markdown",
   "id": "35564134",
   "metadata": {},
   "source": [
    "### 데이터 불러오기"
   ]
  },
  {
   "cell_type": "code",
   "execution_count": null,
   "id": "9a03f952",
   "metadata": {},
   "outputs": [],
   "source": []
  }
 ],
 "metadata": {
  "kernelspec": {
   "display_name": "Python 3",
   "language": "python",
   "name": "python3"
  },
  "language_info": {
   "codemirror_mode": {
    "name": "ipython",
    "version": 3
   },
   "file_extension": ".py",
   "mimetype": "text/x-python",
   "name": "python",
   "nbconvert_exporter": "python",
   "pygments_lexer": "ipython3",
   "version": "3.8.11"
  }
 },
 "nbformat": 4,
 "nbformat_minor": 5
}
